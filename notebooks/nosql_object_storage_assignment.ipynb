{
 "cells": [
  {
   "cell_type": "markdown",
   "id": "68665472",
   "metadata": {},
   "source": [
    "# Assignment"
   ]
  },
  {
   "cell_type": "markdown",
   "id": "b62ff338",
   "metadata": {},
   "source": [
    "### Question 1\n",
    "\n",
    "Question: How would you create a new hash in Redis to store information about a person, with `john_doe` as the key and include the name (`John Doe`), age (`35`), and email address (`john@email.com`)?\n"
   ]
  },
  {
   "cell_type": "code",
   "execution_count": 2,
   "id": "f4e703ad",
   "metadata": {},
   "outputs": [
    {
     "name": "stdout",
     "output_type": "stream",
     "text": [
      "bar\n"
     ]
    }
   ],
   "source": [
    "# Import required libraries\n",
    "import redis\n",
    "import os\n",
    "from dotenv import load_dotenv\n",
    "\n",
    "# Load environment variables from .env file\n",
    "load_dotenv()\n",
    "\n",
    "# Connect to Redis using environment variables from .env\n",
    "r = redis.Redis(\n",
    "    host=os.getenv('REDIS_HOST'),\n",
    "    port=int(os.getenv('REDIS_PORT')),\n",
    "    username=os.getenv('REDIS_USERNAME'),\n",
    "    password=os.getenv('REDIS_PASSWORD'),\n",
    "    decode_responses=True,\n",
    "    # If your Redis does not require username, you can remove the username argument\n",
    "    # If your Redis does not require password, you can remove the password argument\n",
    ")\n",
    "\n",
    "success = r.set('foo', 'bar')\n",
    "# True\n",
    "\n",
    "result = r.get('foo')\n",
    "print(result)\n",
    "# >>> bar"
   ]
  },
  {
   "cell_type": "code",
   "execution_count": 3,
   "id": "c96104a1",
   "metadata": {},
   "outputs": [
    {
     "data": {
      "text/plain": [
       "{'age': '35', 'email': 'john@gmail.com'}"
      ]
     },
     "execution_count": 3,
     "metadata": {},
     "output_type": "execute_result"
    }
   ],
   "source": [
    "r.hset(\n",
    "    'john doe',\n",
    "    mapping={\n",
    "        \"age\": 35,\n",
    "        \"email\": \"john@gmail.com\",\n",
    "    },\n",
    ")\n",
    "\n",
    "r.hgetall('john doe')"
   ]
  },
  {
   "cell_type": "markdown",
   "id": "f9a505f9",
   "metadata": {},
   "source": [
    "### Question 2\n",
    "\n",
    "Question: Write Python code to list the first 10 objects (blob name) in the \"gcp-public-data-landsat\" bucket, along with their sizes."
   ]
  },
  {
   "cell_type": "code",
   "execution_count": 4,
   "id": "c62e2084",
   "metadata": {},
   "outputs": [
    {
     "name": "stdout",
     "output_type": "stream",
     "text": [
      "Authenticated with account: innergritx@gmail.com\n",
      "Authenticated with project: sctp-dsai-468313\n"
     ]
    }
   ],
   "source": [
    "import subprocess\n",
    "from google.auth import default\n",
    "\n",
    "try:\n",
    "    credentials, project = default()\n",
    "    \n",
    "    # Get the authenticated account using gcloud command\n",
    "    result = subprocess.run(['gcloud', 'auth', 'list', '--filter=status:ACTIVE', '--format=value(account)'], \n",
    "                          capture_output=True, text=True)\n",
    "    account = result.stdout.strip()\n",
    "    \n",
    "    print(f\"Authenticated with account: {account}\")\n",
    "    print(f\"Authenticated with project: {project}\")\n",
    "    \n",
    "except Exception as e:\n",
    "    print(\"Not authenticated. Run: gcloud auth application-default login\")"
   ]
  },
  {
   "cell_type": "code",
   "execution_count": 5,
   "id": "15ed4385",
   "metadata": {},
   "outputs": [],
   "source": [
    "from google.cloud import storage\n",
    "\n",
    "client = storage.Client()\n",
    "bucket = client.get_bucket(\"gcp-public-data-landsat\")"
   ]
  },
  {
   "cell_type": "code",
   "execution_count": 6,
   "id": "a449b2c3",
   "metadata": {},
   "outputs": [
    {
     "name": "stdout",
     "output_type": "stream",
     "text": [
      "Blobs in gcp-public-data-landsat:\n",
      "\tLC08/01/001/002/LC08_L1GT_001002_20160817_20170322_01_T2/LC08_L1GT_001002_20160817_20170322_01_T2_ANG.txt\n",
      "\tSize: 117255 bytes\n",
      "\tLC08/01/001/002/LC08_L1GT_001002_20160817_20170322_01_T2/LC08_L1GT_001002_20160817_20170322_01_T2_B1.TIF\n",
      "\tSize: 75085385 bytes\n",
      "\tLC08/01/001/002/LC08_L1GT_001002_20160817_20170322_01_T2/LC08_L1GT_001002_20160817_20170322_01_T2_B10.TIF\n",
      "\tSize: 40612836 bytes\n",
      "\tLC08/01/001/002/LC08_L1GT_001002_20160817_20170322_01_T2/LC08_L1GT_001002_20160817_20170322_01_T2_B11.TIF\n",
      "\tSize: 39267654 bytes\n",
      "\tLC08/01/001/002/LC08_L1GT_001002_20160817_20170322_01_T2/LC08_L1GT_001002_20160817_20170322_01_T2_B2.TIF\n",
      "\tSize: 76259448 bytes\n",
      "\tLC08/01/001/002/LC08_L1GT_001002_20160817_20170322_01_T2/LC08_L1GT_001002_20160817_20170322_01_T2_B3.TIF\n",
      "\tSize: 76813565 bytes\n",
      "\tLC08/01/001/002/LC08_L1GT_001002_20160817_20170322_01_T2/LC08_L1GT_001002_20160817_20170322_01_T2_B4.TIF\n",
      "\tSize: 78510140 bytes\n",
      "\tLC08/01/001/002/LC08_L1GT_001002_20160817_20170322_01_T2/LC08_L1GT_001002_20160817_20170322_01_T2_B5.TIF\n",
      "\tSize: 80344717 bytes\n",
      "\tLC08/01/001/002/LC08_L1GT_001002_20160817_20170322_01_T2/LC08_L1GT_001002_20160817_20170322_01_T2_B6.TIF\n",
      "\tSize: 76416634 bytes\n",
      "\tLC08/01/001/002/LC08_L1GT_001002_20160817_20170322_01_T2/LC08_L1GT_001002_20160817_20170322_01_T2_B7.TIF\n",
      "\tSize: 73888286 bytes\n"
     ]
    }
   ],
   "source": [
    "blobs = bucket.list_blobs()\n",
    "\n",
    "print(\"Blobs in {}:\".format(bucket.name))\n",
    "for ix, item in enumerate(blobs):\n",
    "    print(\"\\t\" + item.name)\n",
    "    print(\"\\t\" + \"Size: {} bytes\".format(item.size))\n",
    "    if ix == 9: # stop after 10 blobs\n",
    "        break"
   ]
  }
 ],
 "metadata": {
  "kernelspec": {
   "display_name": "bde",
   "language": "python",
   "name": "python3"
  },
  "language_info": {
   "codemirror_mode": {
    "name": "ipython",
    "version": 3
   },
   "file_extension": ".py",
   "mimetype": "text/x-python",
   "name": "python",
   "nbconvert_exporter": "python",
   "pygments_lexer": "ipython3",
   "version": "3.10.13"
  }
 },
 "nbformat": 4,
 "nbformat_minor": 5
}
